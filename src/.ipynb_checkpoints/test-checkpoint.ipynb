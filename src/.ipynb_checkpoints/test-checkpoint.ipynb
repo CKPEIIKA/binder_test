{
 "cells": [
  {
   "cell_type": "code",
   "execution_count": 18,
   "id": "8dcf0a56",
   "metadata": {},
   "outputs": [
    {
     "data": {
      "text/html": [],
      "text/plain": [
       "<IPython.core.display.HTML object>"
      ]
     },
     "metadata": {},
     "output_type": "display_data"
    }
   ],
   "source": [
    "from IPython.display import HTML, display\n",
    "from IPython.display import Markdown as md\n",
    "from IPython.display import FileLink, FileLinks\n",
    "from notebook import notebookapp\n",
    "display(HTML(\"\"))"
   ]
  },
  {
   "cell_type": "code",
   "execution_count": 19,
   "id": "98cdeb17",
   "metadata": {},
   "outputs": [
    {
     "ename": "IndexError",
     "evalue": "list index out of range",
     "output_type": "error",
     "traceback": [
      "\u001b[0;31m---------------------------------------------------------------------------\u001b[0m",
      "\u001b[0;31mIndexError\u001b[0m                                Traceback (most recent call last)",
      "Cell \u001b[0;32mIn [19], line 1\u001b[0m\n\u001b[0;32m----> 1\u001b[0m \u001b[38;5;28;43mlist\u001b[39;49m\u001b[43m(\u001b[49m\u001b[43mnotebookapp\u001b[49m\u001b[38;5;241;43m.\u001b[39;49m\u001b[43mlist_running_servers\u001b[49m\u001b[43m(\u001b[49m\u001b[43m)\u001b[49m\u001b[43m)\u001b[49m\u001b[43m[\u001b[49m\u001b[38;5;241;43m0\u001b[39;49m\u001b[43m]\u001b[49m\n",
      "\u001b[0;31mIndexError\u001b[0m: list index out of range"
     ]
    }
   ],
   "source": [
    "list(notebookapp.list_running_servers())[0] "
   ]
  },
  {
   "cell_type": "code",
   "execution_count": 20,
   "id": "dbb3543c",
   "metadata": {},
   "outputs": [],
   "source": [
    "datasets_url = \"../db/test.csv\""
   ]
  },
  {
   "cell_type": "code",
   "execution_count": 24,
   "id": "0b72e4f5",
   "metadata": {},
   "outputs": [
    {
     "data": {
      "text/html": [
       "<a href='../db/test.csv' target='_blank'>../db/test.csv</a><br>"
      ],
      "text/plain": [
       "/home/uu/Python/test-binder/db/test.csv"
      ]
     },
     "execution_count": 24,
     "metadata": {},
     "output_type": "execute_result"
    }
   ],
   "source": [
    "FileLink(datasets_url)"
   ]
  },
  {
   "cell_type": "code",
   "execution_count": null,
   "id": "7a864e25",
   "metadata": {},
   "outputs": [],
   "source": []
  }
 ],
 "metadata": {
  "kernelspec": {
   "display_name": "Python 3 (ipykernel)",
   "language": "python",
   "name": "python3"
  },
  "language_info": {
   "codemirror_mode": {
    "name": "ipython",
    "version": 3
   },
   "file_extension": ".py",
   "mimetype": "text/x-python",
   "name": "python",
   "nbconvert_exporter": "python",
   "pygments_lexer": "ipython3",
   "version": "3.10.8"
  }
 },
 "nbformat": 4,
 "nbformat_minor": 5
}
